{
 "cells": [
  {
   "cell_type": "code",
   "execution_count": 171,
   "id": "d194b39c-6f12-4f6d-9898-2de5b45474a6",
   "metadata": {},
   "outputs": [],
   "source": [
    "# From the pathlib library, import the main class Path & csv library\n",
    "from pathlib import Path\n",
    "import csv"
   ]
  },
  {
   "cell_type": "code",
   "execution_count": 172,
   "id": "56194e35-bf34-4312-bfa9-1c093b0e622d",
   "metadata": {},
   "outputs": [],
   "source": [
    "# Set the path using Pathlib\n",
    "csvpath = Path('Resources/budget_data.csv')\n",
    "\n",
    "f = open('results.txt','w+')"
   ]
  },
  {
   "cell_type": "code",
   "execution_count": 173,
   "id": "484ad9eb-6e83-4b27-a5e1-95dcd0be9760",
   "metadata": {},
   "outputs": [],
   "source": [
    "# Initialize lists\n",
    "records = []\n",
    "profitLossesList = []\n",
    "dateProfitLossesList = []\n",
    "changeList = []"
   ]
  },
  {
   "cell_type": "code",
   "execution_count": 174,
   "id": "b74b2407-b01f-4a7b-9ae2-1b5df721b3ca",
   "metadata": {},
   "outputs": [],
   "source": [
    "# Initialize variables\n",
    "counter = 0\n",
    "numMonths = 0\n",
    "profit_loss_sum = 0\n",
    "profit_losses = 0\n",
    "x = 0\n",
    "z = 0\n",
    "\n",
    "# Open the csv file as an object\n",
    "with open(csvpath, 'r') as csvfile:\n",
    "\n",
    "    # Pass in the csv file to the csv.reader() function\n",
    "    # (with ',' as the delmiter/separator) and return the csvreader object\n",
    "    csvreader = csv.reader(csvfile, delimiter =',')\n",
    "\n",
    "    # Read the header row first\n",
    "    csv_header = next(csvreader)\n",
    "    \n",
    "    # Append the headers to records[]\n",
    "    records.append(csv_header)\n",
    "    \n",
    "    # Read each row of data after the header\n",
    "    for row in csvreader:\n",
    "        # Print the row\n",
    "       # print(row)\n",
    "\n",
    "        x = profit_losses\n",
    "        # Set the 'name', 'count', and 'revenue' variables for better\n",
    "        # readability, convert strings to ints for numerical calculations\n",
    "        month = row[0]\n",
    "        profit_losses = int(row[1])\n",
    "        #profit_losses_changes = int(row[1])\n",
    "        profitLossesList.append(profit_losses)\n",
    "        dateProfitLossesList.append(month)\n",
    "\n",
    "        # Calculate the Count of Months \n",
    "        numMonths += 1\n",
    "        profit_loss_sum  += profit_losses\n",
    "\n",
    "        # Calculate the average of the changes in Profit/Losses over the entire period \n",
    "        #rounded to the nearest 2 decimal places\n",
    "        profit_losses_changes = profit_losses - x\n",
    "        #profit_losses = int(row[1])average = round(revenue / count, 2)      \n",
    "\n",
    "\n",
    "for i in range(len(profitLossesList)-1):\n",
    "    curr = profitLossesList[i]\n",
    "    currDown = profitLossesList[i+1]\n",
    "    x = currDown-curr\n",
    "    changeList.append(x)\n",
    "    #counter = sum(csvpath['Profit/Losses'])\n",
    "    minChange = min(changeList)\n",
    "    maxChange = max(changeList)  \n",
    "    z = z + x\n",
    "\n",
    "avgChange = round(z/(numMonths-1),2)   \n",
    "maxChangeMonth = dateProfitLossesList[(changeList.index(max(changeList)))+1]\n",
    "minChangeMonth = dateProfitLossesList[(changeList.index(min(changeList)))+1]\n"
   ]
  },
  {
   "cell_type": "code",
   "execution_count": 175,
   "id": "501c66a6-bb7a-45e9-b300-0c779b9cf7e5",
   "metadata": {},
   "outputs": [],
   "source": [
    "#Output Print in file \n",
    "f.write(f\"Financial Analysis\\n----------------------------------\\n\")\n",
    "f.write(f\"Total Months: ${numMonths}\\n\")\n",
    "f.write(f\"Total: ${profit_loss_sum}\\n\")\n",
    "f.write(f\"Average  Change: ${avgChange}\\n\")\n",
    "f.write(f\"Greatest Increase in Profits: {maxChangeMonth} (${maxChange})\\n\")\n",
    "f.write(f\"Greatest Decrease in Profits: {minChangeMonth} (${minChange})\\n\")\n",
    "\n",
    "f.close()"
   ]
  }
 ],
 "metadata": {
  "kernelspec": {
   "display_name": "Python 3",
   "language": "python",
   "name": "python3"
  },
  "language_info": {
   "codemirror_mode": {
    "name": "ipython",
    "version": 3
   },
   "file_extension": ".py",
   "mimetype": "text/x-python",
   "name": "python",
   "nbconvert_exporter": "python",
   "pygments_lexer": "ipython3",
   "version": "3.8.8"
  }
 },
 "nbformat": 4,
 "nbformat_minor": 5
}
